{
  "nbformat": 4,
  "nbformat_minor": 0,
  "metadata": {
    "colab": {
      "provenance": []
    },
    "kernelspec": {
      "name": "python3",
      "display_name": "Python 3"
    },
    "language_info": {
      "name": "python"
    }
  },
  "cells": [
    {
      "cell_type": "markdown",
      "source": [
        "Regression on Happiness Score"
      ],
      "metadata": {
        "id": "8l5JIHknZnEI"
      }
    },
    {
      "cell_type": "code",
      "execution_count": null,
      "metadata": {
        "id": "ArQ5oMnaZZWL"
      },
      "outputs": [],
      "source": [
        "#set up a ColumnTransformer with StandardScaler for numerical features and OneHotEncoder for categorical features.\n",
        "#set up and training a LinearRegression model using scikit-learn, including data preprocessing steps within a Pipeline.\n",
        "#implement polynomial regression\n",
        "#perform hyperparameter tuning for a polynomial regression model\n",
        "#evaluate the performance of a regression model on test data\n",
        "#use OneHotEncoder with handle_unknown='ignore' within a preprocessing pipeline to handle unseen categories during model training and evaluation\n",
        "#set up and execute cross_val_score or GridSearchCV to perform cross-validation\n",
        "#perform hyperparameter tuning for an SVM model using grid search\n",
        "#calculate and display performance metrics\n",
        "#integrate PolynomialFeatures in a pipeline before an SVM model\n",
        "#Use different kernels such as linear, polynomial, and RBF"
      ]
    },
    {
      "cell_type": "markdown",
      "source": [
        "#Import Library"
      ],
      "metadata": {
        "id": "tkL9uwIYqc7z"
      }
    },
    {
      "cell_type": "code",
      "source": [
        "import pandas as pd\n",
        "import numpy as np"
      ],
      "metadata": {
        "id": "tbKF_RIrqgWa"
      },
      "execution_count": 1,
      "outputs": []
    },
    {
      "cell_type": "markdown",
      "source": [
        "# Import Dataset"
      ],
      "metadata": {
        "id": "Qt4GfnhRqRt9"
      }
    },
    {
      "cell_type": "code",
      "source": [
        "df = pd.read_csv('world_happiness.csv')\n",
        "df.sample(10)"
      ],
      "metadata": {
        "id": "eZ5sJ7nw8yJ5",
        "colab": {
          "base_uri": "https://localhost:8080/",
          "height": 435
        },
        "outputId": "d2dcb1f2-d6ce-4394-cfa5-01066eae0c1f"
      },
      "execution_count": 19,
      "outputs": [
        {
          "output_type": "execute_result",
          "data": {
            "text/plain": [
              "     Unnamed: 0                   country  social_support  freedom  \\\n",
              "22           23                    Mexico            67.0     71.0   \n",
              "112         113                Bangladesh           126.0     27.0   \n",
              "114         115                      Mali           112.0    110.0   \n",
              "120         121                  Ethiopia           119.0    106.0   \n",
              "128         129                   Comoros           143.0    148.0   \n",
              "141         142  Central African Republic           155.0    133.0   \n",
              "86           87                    Bhutan            68.0     59.0   \n",
              "132         133                  Zimbabwe           110.0     96.0   \n",
              "45           46                    Cyprus            90.0     81.0   \n",
              "55           56                  Honduras            84.0     39.0   \n",
              "\n",
              "     corruption  generosity  gdp_per_cap  life_exp  happiness_score  \n",
              "22         87.0       120.0        18000      75.6              133  \n",
              "112        36.0       107.0         4140      73.7               31  \n",
              "114       107.0       138.0         2100      62.9               28  \n",
              "120        53.0        99.0         1900      69.1               22  \n",
              "128        81.0        62.0         2480      69.1               14  \n",
              "141       122.0       113.0          794      52.9                1  \n",
              "86         25.0        13.0         9710      74.7               61  \n",
              "132        63.0       141.0         2390      62.0               10  \n",
              "45        115.0        39.0        34500      82.0              107  \n",
              "55         79.0        51.0         4630      74.3               97  "
            ],
            "text/html": [
              "\n",
              "  <div id=\"df-07b33d66-b88a-4c9b-b580-dfcc81c8bdc4\" class=\"colab-df-container\">\n",
              "    <div>\n",
              "<style scoped>\n",
              "    .dataframe tbody tr th:only-of-type {\n",
              "        vertical-align: middle;\n",
              "    }\n",
              "\n",
              "    .dataframe tbody tr th {\n",
              "        vertical-align: top;\n",
              "    }\n",
              "\n",
              "    .dataframe thead th {\n",
              "        text-align: right;\n",
              "    }\n",
              "</style>\n",
              "<table border=\"1\" class=\"dataframe\">\n",
              "  <thead>\n",
              "    <tr style=\"text-align: right;\">\n",
              "      <th></th>\n",
              "      <th>Unnamed: 0</th>\n",
              "      <th>country</th>\n",
              "      <th>social_support</th>\n",
              "      <th>freedom</th>\n",
              "      <th>corruption</th>\n",
              "      <th>generosity</th>\n",
              "      <th>gdp_per_cap</th>\n",
              "      <th>life_exp</th>\n",
              "      <th>happiness_score</th>\n",
              "    </tr>\n",
              "  </thead>\n",
              "  <tbody>\n",
              "    <tr>\n",
              "      <th>22</th>\n",
              "      <td>23</td>\n",
              "      <td>Mexico</td>\n",
              "      <td>67.0</td>\n",
              "      <td>71.0</td>\n",
              "      <td>87.0</td>\n",
              "      <td>120.0</td>\n",
              "      <td>18000</td>\n",
              "      <td>75.6</td>\n",
              "      <td>133</td>\n",
              "    </tr>\n",
              "    <tr>\n",
              "      <th>112</th>\n",
              "      <td>113</td>\n",
              "      <td>Bangladesh</td>\n",
              "      <td>126.0</td>\n",
              "      <td>27.0</td>\n",
              "      <td>36.0</td>\n",
              "      <td>107.0</td>\n",
              "      <td>4140</td>\n",
              "      <td>73.7</td>\n",
              "      <td>31</td>\n",
              "    </tr>\n",
              "    <tr>\n",
              "      <th>114</th>\n",
              "      <td>115</td>\n",
              "      <td>Mali</td>\n",
              "      <td>112.0</td>\n",
              "      <td>110.0</td>\n",
              "      <td>107.0</td>\n",
              "      <td>138.0</td>\n",
              "      <td>2100</td>\n",
              "      <td>62.9</td>\n",
              "      <td>28</td>\n",
              "    </tr>\n",
              "    <tr>\n",
              "      <th>120</th>\n",
              "      <td>121</td>\n",
              "      <td>Ethiopia</td>\n",
              "      <td>119.0</td>\n",
              "      <td>106.0</td>\n",
              "      <td>53.0</td>\n",
              "      <td>99.0</td>\n",
              "      <td>1900</td>\n",
              "      <td>69.1</td>\n",
              "      <td>22</td>\n",
              "    </tr>\n",
              "    <tr>\n",
              "      <th>128</th>\n",
              "      <td>129</td>\n",
              "      <td>Comoros</td>\n",
              "      <td>143.0</td>\n",
              "      <td>148.0</td>\n",
              "      <td>81.0</td>\n",
              "      <td>62.0</td>\n",
              "      <td>2480</td>\n",
              "      <td>69.1</td>\n",
              "      <td>14</td>\n",
              "    </tr>\n",
              "    <tr>\n",
              "      <th>141</th>\n",
              "      <td>142</td>\n",
              "      <td>Central African Republic</td>\n",
              "      <td>155.0</td>\n",
              "      <td>133.0</td>\n",
              "      <td>122.0</td>\n",
              "      <td>113.0</td>\n",
              "      <td>794</td>\n",
              "      <td>52.9</td>\n",
              "      <td>1</td>\n",
              "    </tr>\n",
              "    <tr>\n",
              "      <th>86</th>\n",
              "      <td>87</td>\n",
              "      <td>Bhutan</td>\n",
              "      <td>68.0</td>\n",
              "      <td>59.0</td>\n",
              "      <td>25.0</td>\n",
              "      <td>13.0</td>\n",
              "      <td>9710</td>\n",
              "      <td>74.7</td>\n",
              "      <td>61</td>\n",
              "    </tr>\n",
              "    <tr>\n",
              "      <th>132</th>\n",
              "      <td>133</td>\n",
              "      <td>Zimbabwe</td>\n",
              "      <td>110.0</td>\n",
              "      <td>96.0</td>\n",
              "      <td>63.0</td>\n",
              "      <td>141.0</td>\n",
              "      <td>2390</td>\n",
              "      <td>62.0</td>\n",
              "      <td>10</td>\n",
              "    </tr>\n",
              "    <tr>\n",
              "      <th>45</th>\n",
              "      <td>46</td>\n",
              "      <td>Cyprus</td>\n",
              "      <td>90.0</td>\n",
              "      <td>81.0</td>\n",
              "      <td>115.0</td>\n",
              "      <td>39.0</td>\n",
              "      <td>34500</td>\n",
              "      <td>82.0</td>\n",
              "      <td>107</td>\n",
              "    </tr>\n",
              "    <tr>\n",
              "      <th>55</th>\n",
              "      <td>56</td>\n",
              "      <td>Honduras</td>\n",
              "      <td>84.0</td>\n",
              "      <td>39.0</td>\n",
              "      <td>79.0</td>\n",
              "      <td>51.0</td>\n",
              "      <td>4630</td>\n",
              "      <td>74.3</td>\n",
              "      <td>97</td>\n",
              "    </tr>\n",
              "  </tbody>\n",
              "</table>\n",
              "</div>\n",
              "    <div class=\"colab-df-buttons\">\n",
              "\n",
              "  <div class=\"colab-df-container\">\n",
              "    <button class=\"colab-df-convert\" onclick=\"convertToInteractive('df-07b33d66-b88a-4c9b-b580-dfcc81c8bdc4')\"\n",
              "            title=\"Convert this dataframe to an interactive table.\"\n",
              "            style=\"display:none;\">\n",
              "\n",
              "  <svg xmlns=\"http://www.w3.org/2000/svg\" height=\"24px\" viewBox=\"0 -960 960 960\">\n",
              "    <path d=\"M120-120v-720h720v720H120Zm60-500h600v-160H180v160Zm220 220h160v-160H400v160Zm0 220h160v-160H400v160ZM180-400h160v-160H180v160Zm440 0h160v-160H620v160ZM180-180h160v-160H180v160Zm440 0h160v-160H620v160Z\"/>\n",
              "  </svg>\n",
              "    </button>\n",
              "\n",
              "  <style>\n",
              "    .colab-df-container {\n",
              "      display:flex;\n",
              "      gap: 12px;\n",
              "    }\n",
              "\n",
              "    .colab-df-convert {\n",
              "      background-color: #E8F0FE;\n",
              "      border: none;\n",
              "      border-radius: 50%;\n",
              "      cursor: pointer;\n",
              "      display: none;\n",
              "      fill: #1967D2;\n",
              "      height: 32px;\n",
              "      padding: 0 0 0 0;\n",
              "      width: 32px;\n",
              "    }\n",
              "\n",
              "    .colab-df-convert:hover {\n",
              "      background-color: #E2EBFA;\n",
              "      box-shadow: 0px 1px 2px rgba(60, 64, 67, 0.3), 0px 1px 3px 1px rgba(60, 64, 67, 0.15);\n",
              "      fill: #174EA6;\n",
              "    }\n",
              "\n",
              "    .colab-df-buttons div {\n",
              "      margin-bottom: 4px;\n",
              "    }\n",
              "\n",
              "    [theme=dark] .colab-df-convert {\n",
              "      background-color: #3B4455;\n",
              "      fill: #D2E3FC;\n",
              "    }\n",
              "\n",
              "    [theme=dark] .colab-df-convert:hover {\n",
              "      background-color: #434B5C;\n",
              "      box-shadow: 0px 1px 3px 1px rgba(0, 0, 0, 0.15);\n",
              "      filter: drop-shadow(0px 1px 2px rgba(0, 0, 0, 0.3));\n",
              "      fill: #FFFFFF;\n",
              "    }\n",
              "  </style>\n",
              "\n",
              "    <script>\n",
              "      const buttonEl =\n",
              "        document.querySelector('#df-07b33d66-b88a-4c9b-b580-dfcc81c8bdc4 button.colab-df-convert');\n",
              "      buttonEl.style.display =\n",
              "        google.colab.kernel.accessAllowed ? 'block' : 'none';\n",
              "\n",
              "      async function convertToInteractive(key) {\n",
              "        const element = document.querySelector('#df-07b33d66-b88a-4c9b-b580-dfcc81c8bdc4');\n",
              "        const dataTable =\n",
              "          await google.colab.kernel.invokeFunction('convertToInteractive',\n",
              "                                                    [key], {});\n",
              "        if (!dataTable) return;\n",
              "\n",
              "        const docLinkHtml = 'Like what you see? Visit the ' +\n",
              "          '<a target=\"_blank\" href=https://colab.research.google.com/notebooks/data_table.ipynb>data table notebook</a>'\n",
              "          + ' to learn more about interactive tables.';\n",
              "        element.innerHTML = '';\n",
              "        dataTable['output_type'] = 'display_data';\n",
              "        await google.colab.output.renderOutput(dataTable, element);\n",
              "        const docLink = document.createElement('div');\n",
              "        docLink.innerHTML = docLinkHtml;\n",
              "        element.appendChild(docLink);\n",
              "      }\n",
              "    </script>\n",
              "  </div>\n",
              "\n",
              "\n",
              "<div id=\"df-4be317b0-25da-4e7f-a2a7-c67baaab7566\">\n",
              "  <button class=\"colab-df-quickchart\" onclick=\"quickchart('df-4be317b0-25da-4e7f-a2a7-c67baaab7566')\"\n",
              "            title=\"Suggest charts\"\n",
              "            style=\"display:none;\">\n",
              "\n",
              "<svg xmlns=\"http://www.w3.org/2000/svg\" height=\"24px\"viewBox=\"0 0 24 24\"\n",
              "     width=\"24px\">\n",
              "    <g>\n",
              "        <path d=\"M19 3H5c-1.1 0-2 .9-2 2v14c0 1.1.9 2 2 2h14c1.1 0 2-.9 2-2V5c0-1.1-.9-2-2-2zM9 17H7v-7h2v7zm4 0h-2V7h2v10zm4 0h-2v-4h2v4z\"/>\n",
              "    </g>\n",
              "</svg>\n",
              "  </button>\n",
              "\n",
              "<style>\n",
              "  .colab-df-quickchart {\n",
              "      --bg-color: #E8F0FE;\n",
              "      --fill-color: #1967D2;\n",
              "      --hover-bg-color: #E2EBFA;\n",
              "      --hover-fill-color: #174EA6;\n",
              "      --disabled-fill-color: #AAA;\n",
              "      --disabled-bg-color: #DDD;\n",
              "  }\n",
              "\n",
              "  [theme=dark] .colab-df-quickchart {\n",
              "      --bg-color: #3B4455;\n",
              "      --fill-color: #D2E3FC;\n",
              "      --hover-bg-color: #434B5C;\n",
              "      --hover-fill-color: #FFFFFF;\n",
              "      --disabled-bg-color: #3B4455;\n",
              "      --disabled-fill-color: #666;\n",
              "  }\n",
              "\n",
              "  .colab-df-quickchart {\n",
              "    background-color: var(--bg-color);\n",
              "    border: none;\n",
              "    border-radius: 50%;\n",
              "    cursor: pointer;\n",
              "    display: none;\n",
              "    fill: var(--fill-color);\n",
              "    height: 32px;\n",
              "    padding: 0;\n",
              "    width: 32px;\n",
              "  }\n",
              "\n",
              "  .colab-df-quickchart:hover {\n",
              "    background-color: var(--hover-bg-color);\n",
              "    box-shadow: 0 1px 2px rgba(60, 64, 67, 0.3), 0 1px 3px 1px rgba(60, 64, 67, 0.15);\n",
              "    fill: var(--button-hover-fill-color);\n",
              "  }\n",
              "\n",
              "  .colab-df-quickchart-complete:disabled,\n",
              "  .colab-df-quickchart-complete:disabled:hover {\n",
              "    background-color: var(--disabled-bg-color);\n",
              "    fill: var(--disabled-fill-color);\n",
              "    box-shadow: none;\n",
              "  }\n",
              "\n",
              "  .colab-df-spinner {\n",
              "    border: 2px solid var(--fill-color);\n",
              "    border-color: transparent;\n",
              "    border-bottom-color: var(--fill-color);\n",
              "    animation:\n",
              "      spin 1s steps(1) infinite;\n",
              "  }\n",
              "\n",
              "  @keyframes spin {\n",
              "    0% {\n",
              "      border-color: transparent;\n",
              "      border-bottom-color: var(--fill-color);\n",
              "      border-left-color: var(--fill-color);\n",
              "    }\n",
              "    20% {\n",
              "      border-color: transparent;\n",
              "      border-left-color: var(--fill-color);\n",
              "      border-top-color: var(--fill-color);\n",
              "    }\n",
              "    30% {\n",
              "      border-color: transparent;\n",
              "      border-left-color: var(--fill-color);\n",
              "      border-top-color: var(--fill-color);\n",
              "      border-right-color: var(--fill-color);\n",
              "    }\n",
              "    40% {\n",
              "      border-color: transparent;\n",
              "      border-right-color: var(--fill-color);\n",
              "      border-top-color: var(--fill-color);\n",
              "    }\n",
              "    60% {\n",
              "      border-color: transparent;\n",
              "      border-right-color: var(--fill-color);\n",
              "    }\n",
              "    80% {\n",
              "      border-color: transparent;\n",
              "      border-right-color: var(--fill-color);\n",
              "      border-bottom-color: var(--fill-color);\n",
              "    }\n",
              "    90% {\n",
              "      border-color: transparent;\n",
              "      border-bottom-color: var(--fill-color);\n",
              "    }\n",
              "  }\n",
              "</style>\n",
              "\n",
              "  <script>\n",
              "    async function quickchart(key) {\n",
              "      const quickchartButtonEl =\n",
              "        document.querySelector('#' + key + ' button');\n",
              "      quickchartButtonEl.disabled = true;  // To prevent multiple clicks.\n",
              "      quickchartButtonEl.classList.add('colab-df-spinner');\n",
              "      try {\n",
              "        const charts = await google.colab.kernel.invokeFunction(\n",
              "            'suggestCharts', [key], {});\n",
              "      } catch (error) {\n",
              "        console.error('Error during call to suggestCharts:', error);\n",
              "      }\n",
              "      quickchartButtonEl.classList.remove('colab-df-spinner');\n",
              "      quickchartButtonEl.classList.add('colab-df-quickchart-complete');\n",
              "    }\n",
              "    (() => {\n",
              "      let quickchartButtonEl =\n",
              "        document.querySelector('#df-4be317b0-25da-4e7f-a2a7-c67baaab7566 button');\n",
              "      quickchartButtonEl.style.display =\n",
              "        google.colab.kernel.accessAllowed ? 'block' : 'none';\n",
              "    })();\n",
              "  </script>\n",
              "</div>\n",
              "\n",
              "    </div>\n",
              "  </div>\n"
            ],
            "application/vnd.google.colaboratory.intrinsic+json": {
              "type": "dataframe",
              "summary": "{\n  \"name\": \"df\",\n  \"rows\": 10,\n  \"fields\": [\n    {\n      \"column\": \"Unnamed: 0\",\n      \"properties\": {\n        \"dtype\": \"number\",\n        \"std\": 41,\n        \"min\": 23,\n        \"max\": 142,\n        \"num_unique_values\": 10,\n        \"samples\": [\n          46,\n          113,\n          142\n        ],\n        \"semantic_type\": \"\",\n        \"description\": \"\"\n      }\n    },\n    {\n      \"column\": \"country\",\n      \"properties\": {\n        \"dtype\": \"string\",\n        \"num_unique_values\": 10,\n        \"samples\": [\n          \"Cyprus\",\n          \"Bangladesh\",\n          \"Central African Republic\"\n        ],\n        \"semantic_type\": \"\",\n        \"description\": \"\"\n      }\n    },\n    {\n      \"column\": \"social_support\",\n      \"properties\": {\n        \"dtype\": \"number\",\n        \"std\": 29.9562644162749,\n        \"min\": 67.0,\n        \"max\": 155.0,\n        \"num_unique_values\": 10,\n        \"samples\": [\n          90.0,\n          126.0,\n          155.0\n        ],\n        \"semantic_type\": \"\",\n        \"description\": \"\"\n      }\n    },\n    {\n      \"column\": \"freedom\",\n      \"properties\": {\n        \"dtype\": \"number\",\n        \"std\": 39.14077158156185,\n        \"min\": 27.0,\n        \"max\": 148.0,\n        \"num_unique_values\": 10,\n        \"samples\": [\n          81.0,\n          27.0,\n          133.0\n        ],\n        \"semantic_type\": \"\",\n        \"description\": \"\"\n      }\n    },\n    {\n      \"column\": \"corruption\",\n      \"properties\": {\n        \"dtype\": \"number\",\n        \"std\": 32.73733851939301,\n        \"min\": 25.0,\n        \"max\": 122.0,\n        \"num_unique_values\": 10,\n        \"samples\": [\n          115.0,\n          36.0,\n          122.0\n        ],\n        \"semantic_type\": \"\",\n        \"description\": \"\"\n      }\n    },\n    {\n      \"column\": \"generosity\",\n      \"properties\": {\n        \"dtype\": \"number\",\n        \"std\": 44.108578152856694,\n        \"min\": 13.0,\n        \"max\": 141.0,\n        \"num_unique_values\": 10,\n        \"samples\": [\n          39.0,\n          107.0,\n          113.0\n        ],\n        \"semantic_type\": \"\",\n        \"description\": \"\"\n      }\n    },\n    {\n      \"column\": \"gdp_per_cap\",\n      \"properties\": {\n        \"dtype\": \"number\",\n        \"std\": 10631,\n        \"min\": 794,\n        \"max\": 34500,\n        \"num_unique_values\": 10,\n        \"samples\": [\n          34500,\n          4140,\n          794\n        ],\n        \"semantic_type\": \"\",\n        \"description\": \"\"\n      }\n    },\n    {\n      \"column\": \"life_exp\",\n      \"properties\": {\n        \"dtype\": \"number\",\n        \"std\": 8.410978275774797,\n        \"min\": 52.9,\n        \"max\": 82.0,\n        \"num_unique_values\": 9,\n        \"samples\": [\n          82.0,\n          73.7,\n          74.7\n        ],\n        \"semantic_type\": \"\",\n        \"description\": \"\"\n      }\n    },\n    {\n      \"column\": \"happiness_score\",\n      \"properties\": {\n        \"dtype\": \"number\",\n        \"std\": 46,\n        \"min\": 1,\n        \"max\": 133,\n        \"num_unique_values\": 10,\n        \"samples\": [\n          107,\n          31,\n          1\n        ],\n        \"semantic_type\": \"\",\n        \"description\": \"\"\n      }\n    }\n  ]\n}"
            }
          },
          "metadata": {},
          "execution_count": 19
        }
      ]
    },
    {
      "cell_type": "markdown",
      "source": [
        "# EDA"
      ],
      "metadata": {
        "id": "6sRvZZuA1tcA"
      }
    },
    {
      "cell_type": "code",
      "source": [
        "df.columns"
      ],
      "metadata": {
        "colab": {
          "base_uri": "https://localhost:8080/",
          "height": 0
        },
        "id": "1mxY5qrYuy3C",
        "outputId": "7e173191-ce06-4a94-f250-3e089a16607d"
      },
      "execution_count": 4,
      "outputs": [
        {
          "output_type": "execute_result",
          "data": {
            "text/plain": [
              "Index(['Unnamed: 0', 'country', 'social_support', 'freedom', 'corruption',\n",
              "       'generosity', 'gdp_per_cap', 'life_exp', 'happiness_score'],\n",
              "      dtype='object')"
            ]
          },
          "metadata": {},
          "execution_count": 4
        }
      ]
    },
    {
      "cell_type": "code",
      "source": [
        "df.shape"
      ],
      "metadata": {
        "colab": {
          "base_uri": "https://localhost:8080/",
          "height": 0
        },
        "id": "VTpOtw7Xu1LO",
        "outputId": "ec0c0796-dc51-4b90-e6d6-0d5bd119385b"
      },
      "execution_count": 5,
      "outputs": [
        {
          "output_type": "execute_result",
          "data": {
            "text/plain": [
              "(143, 9)"
            ]
          },
          "metadata": {},
          "execution_count": 5
        }
      ]
    },
    {
      "cell_type": "code",
      "source": [
        "df['country'].unique()"
      ],
      "metadata": {
        "colab": {
          "base_uri": "https://localhost:8080/",
          "height": 0
        },
        "id": "a7AeHY7qvRDa",
        "outputId": "613f1919-0e07-400b-fa59-4666ea8590ee"
      },
      "execution_count": 7,
      "outputs": [
        {
          "output_type": "execute_result",
          "data": {
            "text/plain": [
              "array(['Finland', 'Denmark', 'Norway', 'Iceland', 'Netherlands',\n",
              "       'Switzerland', 'Sweden', 'New Zealand', 'Canada', 'Austria',\n",
              "       'Australia', 'Costa Rica', 'Israel', 'Luxembourg',\n",
              "       'United Kingdom', 'Ireland', 'Germany', 'Belgium', 'United States',\n",
              "       'Czech Republic', 'United Arab Emirates', 'Malta', 'Mexico',\n",
              "       'France', 'Chile', 'Guatemala', 'Saudi Arabia', 'Qatar', 'Spain',\n",
              "       'Panama', 'Brazil', 'Uruguay', 'Singapore', 'El Salvador', 'Italy',\n",
              "       'Bahrain', 'Trinidad and Tobago', 'Poland', 'Uzbekistan',\n",
              "       'Lithuania', 'Colombia', 'Slovenia', 'Nicaragua', 'Argentina',\n",
              "       'Romania', 'Cyprus', 'Ecuador', 'Kuwait', 'Thailand', 'Latvia',\n",
              "       'South Korea', 'Estonia', 'Jamaica', 'Mauritius', 'Japan',\n",
              "       'Honduras', 'Kazakhstan', 'Bolivia', 'Hungary', 'Paraguay', 'Peru',\n",
              "       'Portugal', 'Pakistan', 'Russia', 'Philippines', 'Serbia',\n",
              "       'Moldova', 'Libya', 'Montenegro', 'Tajikistan', 'Croatia',\n",
              "       'Dominican Republic', 'Turkey', 'Malaysia', 'Belarus', 'Greece',\n",
              "       'Mongolia', 'Nigeria', 'Turkmenistan', 'Algeria', 'Morocco',\n",
              "       'Azerbaijan', 'Lebanon', 'Indonesia', 'China', 'Vietnam', 'Bhutan',\n",
              "       'Cameroon', 'Bulgaria', 'Ghana', 'Nepal', 'Jordan', 'Benin',\n",
              "       'Gabon', 'South Africa', 'Albania', 'Venezuela', 'Cambodia',\n",
              "       'Senegal', 'Somalia', 'Namibia', 'Niger', 'Burkina Faso',\n",
              "       'Armenia', 'Iran', 'Guinea', 'Georgia', 'Gambia', 'Kenya',\n",
              "       'Mauritania', 'Mozambique', 'Tunisia', 'Bangladesh', 'Iraq',\n",
              "       'Mali', 'Sierra Leone', 'Sri Lanka', 'Myanmar', 'Chad', 'Ukraine',\n",
              "       'Ethiopia', 'Swaziland', 'Uganda', 'Egypt', 'Zambia', 'Togo',\n",
              "       'India', 'Liberia', 'Comoros', 'Madagascar', 'Lesotho', 'Burundi',\n",
              "       'Zimbabwe', 'Haiti', 'Botswana', 'Syria', 'Malawi', 'Yemen',\n",
              "       'Rwanda', 'Tanzania', 'Afghanistan', 'Central African Republic',\n",
              "       'South Sudan'], dtype=object)"
            ]
          },
          "metadata": {},
          "execution_count": 7
        }
      ]
    },
    {
      "cell_type": "markdown",
      "source": [
        "# Check for null values and preprocessing"
      ],
      "metadata": {
        "id": "r0BrMApD08SD"
      }
    },
    {
      "cell_type": "code",
      "source": [
        "df.isna().sum()"
      ],
      "metadata": {
        "colab": {
          "base_uri": "https://localhost:8080/",
          "height": 0
        },
        "id": "jKqhrbL41ABA",
        "outputId": "478f4ccb-ab57-45b4-85d1-de31abf9fe3b"
      },
      "execution_count": 16,
      "outputs": [
        {
          "output_type": "execute_result",
          "data": {
            "text/plain": [
              "Unnamed: 0         0\n",
              "country            0\n",
              "social_support     1\n",
              "freedom            1\n",
              "corruption         8\n",
              "generosity         1\n",
              "gdp_per_cap        0\n",
              "life_exp           0\n",
              "happiness_score    0\n",
              "dtype: int64"
            ]
          },
          "metadata": {},
          "execution_count": 16
        }
      ]
    },
    {
      "cell_type": "code",
      "source": [
        "from sklearn.impute import SimpleImputer\n",
        "imputer = SimpleImputer(strategy='mean')\n",
        "numerical_features = ['social_support', 'freedom', 'corruption',  'generosity', 'gdp_per_cap', 'life_exp', 'happiness_score']\n",
        "df[numerical_features] = imputer.fit_transform(df[numerical_features])\n",
        "\n",
        "df.sample(5)"
      ],
      "metadata": {
        "colab": {
          "base_uri": "https://localhost:8080/",
          "height": 243
        },
        "id": "SLXUirzd12x7",
        "outputId": "e613adc1-eae5-4974-b146-49b27d112477"
      },
      "execution_count": 24,
      "outputs": [
        {
          "output_type": "execute_result",
          "data": {
            "text/plain": [
              "     Unnamed: 0     country  social_support  freedom  corruption  generosity  \\\n",
              "106         107     Georgia           147.0    104.0        28.0       153.0   \n",
              "65           66      Serbia            57.0    124.0       118.0        84.0   \n",
              "13           14  Luxembourg            27.0     28.0         9.0        30.0   \n",
              "113         114        Iraq           124.0    130.0        66.0        73.0   \n",
              "128         129     Comoros           143.0    148.0        81.0        62.0   \n",
              "\n",
              "     gdp_per_cap  life_exp  happiness_score  \n",
              "106      10700.0      73.2             37.0  \n",
              "65       16700.0      76.0             86.0  \n",
              "13       94300.0      82.0            142.0  \n",
              "113      15700.0      77.1             30.0  \n",
              "128       2480.0      69.1             14.0  "
            ],
            "text/html": [
              "\n",
              "  <div id=\"df-96d7f7db-803f-4532-946d-2070a2c63f0d\" class=\"colab-df-container\">\n",
              "    <div>\n",
              "<style scoped>\n",
              "    .dataframe tbody tr th:only-of-type {\n",
              "        vertical-align: middle;\n",
              "    }\n",
              "\n",
              "    .dataframe tbody tr th {\n",
              "        vertical-align: top;\n",
              "    }\n",
              "\n",
              "    .dataframe thead th {\n",
              "        text-align: right;\n",
              "    }\n",
              "</style>\n",
              "<table border=\"1\" class=\"dataframe\">\n",
              "  <thead>\n",
              "    <tr style=\"text-align: right;\">\n",
              "      <th></th>\n",
              "      <th>Unnamed: 0</th>\n",
              "      <th>country</th>\n",
              "      <th>social_support</th>\n",
              "      <th>freedom</th>\n",
              "      <th>corruption</th>\n",
              "      <th>generosity</th>\n",
              "      <th>gdp_per_cap</th>\n",
              "      <th>life_exp</th>\n",
              "      <th>happiness_score</th>\n",
              "    </tr>\n",
              "  </thead>\n",
              "  <tbody>\n",
              "    <tr>\n",
              "      <th>106</th>\n",
              "      <td>107</td>\n",
              "      <td>Georgia</td>\n",
              "      <td>147.0</td>\n",
              "      <td>104.0</td>\n",
              "      <td>28.0</td>\n",
              "      <td>153.0</td>\n",
              "      <td>10700.0</td>\n",
              "      <td>73.2</td>\n",
              "      <td>37.0</td>\n",
              "    </tr>\n",
              "    <tr>\n",
              "      <th>65</th>\n",
              "      <td>66</td>\n",
              "      <td>Serbia</td>\n",
              "      <td>57.0</td>\n",
              "      <td>124.0</td>\n",
              "      <td>118.0</td>\n",
              "      <td>84.0</td>\n",
              "      <td>16700.0</td>\n",
              "      <td>76.0</td>\n",
              "      <td>86.0</td>\n",
              "    </tr>\n",
              "    <tr>\n",
              "      <th>13</th>\n",
              "      <td>14</td>\n",
              "      <td>Luxembourg</td>\n",
              "      <td>27.0</td>\n",
              "      <td>28.0</td>\n",
              "      <td>9.0</td>\n",
              "      <td>30.0</td>\n",
              "      <td>94300.0</td>\n",
              "      <td>82.0</td>\n",
              "      <td>142.0</td>\n",
              "    </tr>\n",
              "    <tr>\n",
              "      <th>113</th>\n",
              "      <td>114</td>\n",
              "      <td>Iraq</td>\n",
              "      <td>124.0</td>\n",
              "      <td>130.0</td>\n",
              "      <td>66.0</td>\n",
              "      <td>73.0</td>\n",
              "      <td>15700.0</td>\n",
              "      <td>77.1</td>\n",
              "      <td>30.0</td>\n",
              "    </tr>\n",
              "    <tr>\n",
              "      <th>128</th>\n",
              "      <td>129</td>\n",
              "      <td>Comoros</td>\n",
              "      <td>143.0</td>\n",
              "      <td>148.0</td>\n",
              "      <td>81.0</td>\n",
              "      <td>62.0</td>\n",
              "      <td>2480.0</td>\n",
              "      <td>69.1</td>\n",
              "      <td>14.0</td>\n",
              "    </tr>\n",
              "  </tbody>\n",
              "</table>\n",
              "</div>\n",
              "    <div class=\"colab-df-buttons\">\n",
              "\n",
              "  <div class=\"colab-df-container\">\n",
              "    <button class=\"colab-df-convert\" onclick=\"convertToInteractive('df-96d7f7db-803f-4532-946d-2070a2c63f0d')\"\n",
              "            title=\"Convert this dataframe to an interactive table.\"\n",
              "            style=\"display:none;\">\n",
              "\n",
              "  <svg xmlns=\"http://www.w3.org/2000/svg\" height=\"24px\" viewBox=\"0 -960 960 960\">\n",
              "    <path d=\"M120-120v-720h720v720H120Zm60-500h600v-160H180v160Zm220 220h160v-160H400v160Zm0 220h160v-160H400v160ZM180-400h160v-160H180v160Zm440 0h160v-160H620v160ZM180-180h160v-160H180v160Zm440 0h160v-160H620v160Z\"/>\n",
              "  </svg>\n",
              "    </button>\n",
              "\n",
              "  <style>\n",
              "    .colab-df-container {\n",
              "      display:flex;\n",
              "      gap: 12px;\n",
              "    }\n",
              "\n",
              "    .colab-df-convert {\n",
              "      background-color: #E8F0FE;\n",
              "      border: none;\n",
              "      border-radius: 50%;\n",
              "      cursor: pointer;\n",
              "      display: none;\n",
              "      fill: #1967D2;\n",
              "      height: 32px;\n",
              "      padding: 0 0 0 0;\n",
              "      width: 32px;\n",
              "    }\n",
              "\n",
              "    .colab-df-convert:hover {\n",
              "      background-color: #E2EBFA;\n",
              "      box-shadow: 0px 1px 2px rgba(60, 64, 67, 0.3), 0px 1px 3px 1px rgba(60, 64, 67, 0.15);\n",
              "      fill: #174EA6;\n",
              "    }\n",
              "\n",
              "    .colab-df-buttons div {\n",
              "      margin-bottom: 4px;\n",
              "    }\n",
              "\n",
              "    [theme=dark] .colab-df-convert {\n",
              "      background-color: #3B4455;\n",
              "      fill: #D2E3FC;\n",
              "    }\n",
              "\n",
              "    [theme=dark] .colab-df-convert:hover {\n",
              "      background-color: #434B5C;\n",
              "      box-shadow: 0px 1px 3px 1px rgba(0, 0, 0, 0.15);\n",
              "      filter: drop-shadow(0px 1px 2px rgba(0, 0, 0, 0.3));\n",
              "      fill: #FFFFFF;\n",
              "    }\n",
              "  </style>\n",
              "\n",
              "    <script>\n",
              "      const buttonEl =\n",
              "        document.querySelector('#df-96d7f7db-803f-4532-946d-2070a2c63f0d button.colab-df-convert');\n",
              "      buttonEl.style.display =\n",
              "        google.colab.kernel.accessAllowed ? 'block' : 'none';\n",
              "\n",
              "      async function convertToInteractive(key) {\n",
              "        const element = document.querySelector('#df-96d7f7db-803f-4532-946d-2070a2c63f0d');\n",
              "        const dataTable =\n",
              "          await google.colab.kernel.invokeFunction('convertToInteractive',\n",
              "                                                    [key], {});\n",
              "        if (!dataTable) return;\n",
              "\n",
              "        const docLinkHtml = 'Like what you see? Visit the ' +\n",
              "          '<a target=\"_blank\" href=https://colab.research.google.com/notebooks/data_table.ipynb>data table notebook</a>'\n",
              "          + ' to learn more about interactive tables.';\n",
              "        element.innerHTML = '';\n",
              "        dataTable['output_type'] = 'display_data';\n",
              "        await google.colab.output.renderOutput(dataTable, element);\n",
              "        const docLink = document.createElement('div');\n",
              "        docLink.innerHTML = docLinkHtml;\n",
              "        element.appendChild(docLink);\n",
              "      }\n",
              "    </script>\n",
              "  </div>\n",
              "\n",
              "\n",
              "<div id=\"df-df659281-7930-4a88-998e-9a3f64b023b3\">\n",
              "  <button class=\"colab-df-quickchart\" onclick=\"quickchart('df-df659281-7930-4a88-998e-9a3f64b023b3')\"\n",
              "            title=\"Suggest charts\"\n",
              "            style=\"display:none;\">\n",
              "\n",
              "<svg xmlns=\"http://www.w3.org/2000/svg\" height=\"24px\"viewBox=\"0 0 24 24\"\n",
              "     width=\"24px\">\n",
              "    <g>\n",
              "        <path d=\"M19 3H5c-1.1 0-2 .9-2 2v14c0 1.1.9 2 2 2h14c1.1 0 2-.9 2-2V5c0-1.1-.9-2-2-2zM9 17H7v-7h2v7zm4 0h-2V7h2v10zm4 0h-2v-4h2v4z\"/>\n",
              "    </g>\n",
              "</svg>\n",
              "  </button>\n",
              "\n",
              "<style>\n",
              "  .colab-df-quickchart {\n",
              "      --bg-color: #E8F0FE;\n",
              "      --fill-color: #1967D2;\n",
              "      --hover-bg-color: #E2EBFA;\n",
              "      --hover-fill-color: #174EA6;\n",
              "      --disabled-fill-color: #AAA;\n",
              "      --disabled-bg-color: #DDD;\n",
              "  }\n",
              "\n",
              "  [theme=dark] .colab-df-quickchart {\n",
              "      --bg-color: #3B4455;\n",
              "      --fill-color: #D2E3FC;\n",
              "      --hover-bg-color: #434B5C;\n",
              "      --hover-fill-color: #FFFFFF;\n",
              "      --disabled-bg-color: #3B4455;\n",
              "      --disabled-fill-color: #666;\n",
              "  }\n",
              "\n",
              "  .colab-df-quickchart {\n",
              "    background-color: var(--bg-color);\n",
              "    border: none;\n",
              "    border-radius: 50%;\n",
              "    cursor: pointer;\n",
              "    display: none;\n",
              "    fill: var(--fill-color);\n",
              "    height: 32px;\n",
              "    padding: 0;\n",
              "    width: 32px;\n",
              "  }\n",
              "\n",
              "  .colab-df-quickchart:hover {\n",
              "    background-color: var(--hover-bg-color);\n",
              "    box-shadow: 0 1px 2px rgba(60, 64, 67, 0.3), 0 1px 3px 1px rgba(60, 64, 67, 0.15);\n",
              "    fill: var(--button-hover-fill-color);\n",
              "  }\n",
              "\n",
              "  .colab-df-quickchart-complete:disabled,\n",
              "  .colab-df-quickchart-complete:disabled:hover {\n",
              "    background-color: var(--disabled-bg-color);\n",
              "    fill: var(--disabled-fill-color);\n",
              "    box-shadow: none;\n",
              "  }\n",
              "\n",
              "  .colab-df-spinner {\n",
              "    border: 2px solid var(--fill-color);\n",
              "    border-color: transparent;\n",
              "    border-bottom-color: var(--fill-color);\n",
              "    animation:\n",
              "      spin 1s steps(1) infinite;\n",
              "  }\n",
              "\n",
              "  @keyframes spin {\n",
              "    0% {\n",
              "      border-color: transparent;\n",
              "      border-bottom-color: var(--fill-color);\n",
              "      border-left-color: var(--fill-color);\n",
              "    }\n",
              "    20% {\n",
              "      border-color: transparent;\n",
              "      border-left-color: var(--fill-color);\n",
              "      border-top-color: var(--fill-color);\n",
              "    }\n",
              "    30% {\n",
              "      border-color: transparent;\n",
              "      border-left-color: var(--fill-color);\n",
              "      border-top-color: var(--fill-color);\n",
              "      border-right-color: var(--fill-color);\n",
              "    }\n",
              "    40% {\n",
              "      border-color: transparent;\n",
              "      border-right-color: var(--fill-color);\n",
              "      border-top-color: var(--fill-color);\n",
              "    }\n",
              "    60% {\n",
              "      border-color: transparent;\n",
              "      border-right-color: var(--fill-color);\n",
              "    }\n",
              "    80% {\n",
              "      border-color: transparent;\n",
              "      border-right-color: var(--fill-color);\n",
              "      border-bottom-color: var(--fill-color);\n",
              "    }\n",
              "    90% {\n",
              "      border-color: transparent;\n",
              "      border-bottom-color: var(--fill-color);\n",
              "    }\n",
              "  }\n",
              "</style>\n",
              "\n",
              "  <script>\n",
              "    async function quickchart(key) {\n",
              "      const quickchartButtonEl =\n",
              "        document.querySelector('#' + key + ' button');\n",
              "      quickchartButtonEl.disabled = true;  // To prevent multiple clicks.\n",
              "      quickchartButtonEl.classList.add('colab-df-spinner');\n",
              "      try {\n",
              "        const charts = await google.colab.kernel.invokeFunction(\n",
              "            'suggestCharts', [key], {});\n",
              "      } catch (error) {\n",
              "        console.error('Error during call to suggestCharts:', error);\n",
              "      }\n",
              "      quickchartButtonEl.classList.remove('colab-df-spinner');\n",
              "      quickchartButtonEl.classList.add('colab-df-quickchart-complete');\n",
              "    }\n",
              "    (() => {\n",
              "      let quickchartButtonEl =\n",
              "        document.querySelector('#df-df659281-7930-4a88-998e-9a3f64b023b3 button');\n",
              "      quickchartButtonEl.style.display =\n",
              "        google.colab.kernel.accessAllowed ? 'block' : 'none';\n",
              "    })();\n",
              "  </script>\n",
              "</div>\n",
              "\n",
              "    </div>\n",
              "  </div>\n"
            ],
            "application/vnd.google.colaboratory.intrinsic+json": {
              "type": "dataframe",
              "summary": "{\n  \"name\": \"df\",\n  \"rows\": 5,\n  \"fields\": [\n    {\n      \"column\": \"Unnamed: 0\",\n      \"properties\": {\n        \"dtype\": \"number\",\n        \"std\": 46,\n        \"min\": 14,\n        \"max\": 129,\n        \"num_unique_values\": 5,\n        \"samples\": [\n          66,\n          129,\n          14\n        ],\n        \"semantic_type\": \"\",\n        \"description\": \"\"\n      }\n    },\n    {\n      \"column\": \"country\",\n      \"properties\": {\n        \"dtype\": \"string\",\n        \"num_unique_values\": 5,\n        \"samples\": [\n          \"Serbia\",\n          \"Comoros\",\n          \"Luxembourg\"\n        ],\n        \"semantic_type\": \"\",\n        \"description\": \"\"\n      }\n    },\n    {\n      \"column\": \"social_support\",\n      \"properties\": {\n        \"dtype\": \"number\",\n        \"std\": 54.33967243184302,\n        \"min\": 27.0,\n        \"max\": 147.0,\n        \"num_unique_values\": 5,\n        \"samples\": [\n          57.0,\n          143.0,\n          27.0\n        ],\n        \"semantic_type\": \"\",\n        \"description\": \"\"\n      }\n    },\n    {\n      \"column\": \"freedom\",\n      \"properties\": {\n        \"dtype\": \"number\",\n        \"std\": 46.767510089804865,\n        \"min\": 28.0,\n        \"max\": 148.0,\n        \"num_unique_values\": 5,\n        \"samples\": [\n          124.0,\n          148.0,\n          28.0\n        ],\n        \"semantic_type\": \"\",\n        \"description\": \"\"\n      }\n    },\n    {\n      \"column\": \"corruption\",\n      \"properties\": {\n        \"dtype\": \"number\",\n        \"std\": 43.200694438862904,\n        \"min\": 9.0,\n        \"max\": 118.0,\n        \"num_unique_values\": 5,\n        \"samples\": [\n          118.0,\n          81.0,\n          9.0\n        ],\n        \"semantic_type\": \"\",\n        \"description\": \"\"\n      }\n    },\n    {\n      \"column\": \"generosity\",\n      \"properties\": {\n        \"dtype\": \"number\",\n        \"std\": 45.324386372018324,\n        \"min\": 30.0,\n        \"max\": 153.0,\n        \"num_unique_values\": 5,\n        \"samples\": [\n          84.0,\n          62.0,\n          30.0\n        ],\n        \"semantic_type\": \"\",\n        \"description\": \"\"\n      }\n    },\n    {\n      \"column\": \"gdp_per_cap\",\n      \"properties\": {\n        \"dtype\": \"number\",\n        \"std\": 37500.75839233121,\n        \"min\": 2480.0,\n        \"max\": 94300.0,\n        \"num_unique_values\": 5,\n        \"samples\": [\n          16700.0,\n          2480.0,\n          94300.0\n        ],\n        \"semantic_type\": \"\",\n        \"description\": \"\"\n      }\n    },\n    {\n      \"column\": \"life_exp\",\n      \"properties\": {\n        \"dtype\": \"number\",\n        \"std\": 4.777760981882624,\n        \"min\": 69.1,\n        \"max\": 82.0,\n        \"num_unique_values\": 5,\n        \"samples\": [\n          76.0,\n          69.1,\n          82.0\n        ],\n        \"semantic_type\": \"\",\n        \"description\": \"\"\n      }\n    },\n    {\n      \"column\": \"happiness_score\",\n      \"properties\": {\n        \"dtype\": \"number\",\n        \"std\": 52.2704505433041,\n        \"min\": 14.0,\n        \"max\": 142.0,\n        \"num_unique_values\": 5,\n        \"samples\": [\n          86.0,\n          14.0,\n          142.0\n        ],\n        \"semantic_type\": \"\",\n        \"description\": \"\"\n      }\n    }\n  ]\n}"
            }
          },
          "metadata": {},
          "execution_count": 24
        }
      ]
    },
    {
      "cell_type": "code",
      "source": [
        "df.isna().sum()"
      ],
      "metadata": {
        "colab": {
          "base_uri": "https://localhost:8080/",
          "height": 0
        },
        "id": "fF_qssjy2sN0",
        "outputId": "42acfaa5-ddd0-422d-8cba-4d33a0012847"
      },
      "execution_count": 25,
      "outputs": [
        {
          "output_type": "execute_result",
          "data": {
            "text/plain": [
              "Unnamed: 0         0\n",
              "country            0\n",
              "social_support     0\n",
              "freedom            0\n",
              "corruption         0\n",
              "generosity         0\n",
              "gdp_per_cap        0\n",
              "life_exp           0\n",
              "happiness_score    0\n",
              "dtype: int64"
            ]
          },
          "metadata": {},
          "execution_count": 25
        }
      ]
    },
    {
      "cell_type": "markdown",
      "source": [
        "# Set up a ColumnTransformer with StandardScaler for numerical features and OneHotEncoder for categorical features."
      ],
      "metadata": {
        "id": "9UT75QSfr1jQ"
      }
    },
    {
      "cell_type": "code",
      "source": [
        "from sklearn.compose import ColumnTransformer\n",
        "from sklearn.preprocessing import StandardScaler, OneHotEncoder\n",
        "\n",
        "ct = ColumnTransformer(\n",
        "    [('standard', StandardScaler(), numerical_features)]\n",
        ")\n",
        "\n",
        "X = ct.fit_transform(df)\n",
        "\n",
        "print(X)"
      ],
      "metadata": {
        "id": "WJ66eKWt31A8",
        "colab": {
          "base_uri": "https://localhost:8080/",
          "height": 0
        },
        "outputId": "e0cd1cc3-616c-4ff7-8463-c8fab12af5c5"
      },
      "execution_count": 22,
      "outputs": [
        {
          "output_type": "stream",
          "name": "stdout",
          "text": [
            "[[-1.65892081 -1.59118586 -1.69356661 ...  1.08669987  1.13246036\n",
            "   1.67384369]\n",
            " [-1.61488964 -1.56908606 -1.7180244  ...  1.37452586  1.0192638\n",
            "   1.65220568]\n",
            " [-1.63690523 -1.63538547 -1.59573542 ...  2.25263904  1.24565693\n",
            "   1.63056768]\n",
            " ...\n",
            " [ 1.6214013   1.72378469  1.53486268 ... -0.89588457 -1.37201358\n",
            "  -1.63677158]\n",
            " [ 1.70946363  1.23758901  1.19245351 ... -0.94300998 -2.95676545\n",
            "  -1.65840959]\n",
            " [ 1.55535454  1.70168488 -0.29947214 ... -0.89100617 -1.99459467\n",
            "  -1.6800476 ]]\n"
          ]
        }
      ]
    },
    {
      "cell_type": "markdown",
      "source": [
        "# Set up and training a LinearRegression model using scikit-learn, including data preprocessing steps within a Pipeline."
      ],
      "metadata": {
        "id": "v2Qic71zzKQh"
      }
    },
    {
      "cell_type": "code",
      "source": [
        "from sklearn.pipeline import Pipeline\n",
        "from sklearn.linear_model import LinearRegression\n",
        "from sklearn.model_selection import train_test_split\n",
        "\n",
        "lr = LinearRegression()\n",
        "\n",
        "model = Pipeline([\n",
        "    ('preprocessor', ct),\n",
        "    ('linear_regression', lr)\n",
        "])\n",
        "\n",
        "X = df[numerical_features]\n",
        "y = df['happiness_score']\n",
        "\n",
        "X_train, X_test, y_train, y_test = train_test_split(X, y, test_size=0.3, random_state=42)\n",
        "\n",
        "model.fit(X_train, y_train)\n",
        "\n",
        "y_pred = model.predict(X_train)\n",
        "\n",
        "print(y_pred)"
      ],
      "metadata": {
        "colab": {
          "base_uri": "https://localhost:8080/",
          "height": 0
        },
        "id": "Xa19EODczzDp",
        "outputId": "24425e46-4296-4ad4-8a4a-390cc559d528"
      },
      "execution_count": 28,
      "outputs": [
        {
          "output_type": "stream",
          "name": "stdout",
          "text": [
            "[ 6.30000000e+01  1.26000000e+02  1.13000000e+02  6.10000000e+01\n",
            "  1.30000000e+02  1.29000000e+02  1.32000000e+02  2.70000000e+01\n",
            "  8.40000000e+01  1.08000000e+02  1.40000000e+02  4.90000000e+01\n",
            "  1.14000000e+02  1.33000000e+02  8.30000000e+01  6.70000000e+01\n",
            "  3.00000000e+00  1.05000000e+02  1.24000000e+02  3.10000000e+01\n",
            "  7.30000000e+01  6.00000000e+00  1.21000000e+02  6.60000000e+01\n",
            "  1.00000000e+00  8.90000000e+01  4.00000000e+00  8.00000000e+00\n",
            "  9.90000000e+01  1.50000000e+02  6.20000000e+01  3.40000000e+01\n",
            "  1.03000000e+02  1.19000000e+02  7.10000000e+01  1.20000000e+02\n",
            "  1.20000000e+01  1.48000000e+02  1.09000000e+02  8.10000000e+01\n",
            "  5.80000000e+01  6.40000000e+01  1.90000000e+01  1.30000000e+01\n",
            "  1.47000000e+02  1.42000000e+02  3.50000000e+01  2.80000000e+01\n",
            "  1.52000000e+02  1.38000000e+02  1.15000000e+02  7.70000000e+01\n",
            "  2.20000000e+01  1.49000000e+02  4.20000000e+01  1.53000000e+02\n",
            "  2.00000000e+01  9.80000000e+01  1.02000000e+02  3.90000000e+01\n",
            "  1.06000000e+02  3.80000000e+01  9.00000000e+01  2.00000000e+00\n",
            "  6.80000000e+01  7.00000000e+00  5.50000000e+01  1.12000000e+02\n",
            "  9.40000000e+01  5.60000000e+01  1.04000000e+02  5.90000000e+01\n",
            "  1.60000000e+01  1.34000000e+02  9.50000000e+01  7.40000000e+01\n",
            "  1.22000000e+02  5.00000000e+00  9.30000000e+01  8.80000000e+01\n",
            "  1.40000000e+01  1.16000000e+02  1.25000000e+02  3.60000000e+01\n",
            "  9.00000000e+00  1.54000000e+02  1.00000000e+02  4.00000000e+01\n",
            "  4.40000000e+01  2.60000000e+01  6.00000000e+01  7.50000000e+01\n",
            "  2.10000000e+01 -4.26325641e-14  1.35000000e+02  7.90000000e+01\n",
            "  3.70000000e+01  1.41000000e+02  5.40000000e+01  4.10000000e+01]\n"
          ]
        }
      ]
    },
    {
      "cell_type": "markdown",
      "source": [
        "# Evaluate the performance of a regression model on test data"
      ],
      "metadata": {
        "id": "kqHZHtDY3j4P"
      }
    },
    {
      "cell_type": "code",
      "source": [
        "from sklearn.metrics import mean_squared_error\n",
        "\n",
        "y_pred = model.predict(X_test)\n",
        "mse = mean_squared_error(y_test, y_pred)\n",
        "\n",
        "print(f\"Mean squared error: {mse}\")"
      ],
      "metadata": {
        "colab": {
          "base_uri": "https://localhost:8080/",
          "height": 0
        },
        "id": "2Oef4wKT4tx1",
        "outputId": "13f33b17-3cb7-4306-c9c0-bb497f1d9665"
      },
      "execution_count": 29,
      "outputs": [
        {
          "output_type": "stream",
          "name": "stdout",
          "text": [
            "Mean squared error: 4.907815566621513e-28\n"
          ]
        }
      ]
    },
    {
      "cell_type": "markdown",
      "source": [
        "# Set up and execute cross_val_score to perform cross-validation"
      ],
      "metadata": {
        "id": "WMTA889i5o6u"
      }
    },
    {
      "cell_type": "code",
      "source": [
        "from sklearn.model_selection import cross_val_score\n",
        "from sklearn.model_selection import GridSearchCV\n",
        "\n",
        "scores = cross_val_score(model, X, y, cv=5)\n",
        "\n",
        "print(f\"Cross-validation scores: {scores}\")"
      ],
      "metadata": {
        "colab": {
          "base_uri": "https://localhost:8080/",
          "height": 0
        },
        "id": "gkTLKbMj44nH",
        "outputId": "ccb11b16-9bc6-4c1e-dcce-c25637abcd27"
      },
      "execution_count": 31,
      "outputs": [
        {
          "output_type": "stream",
          "name": "stdout",
          "text": [
            "Cross-validation scores: [1. 1. 1. 1. 1.]\n"
          ]
        }
      ]
    },
    {
      "cell_type": "markdown",
      "source": [
        "# Calculate and display performance metrics\n",
        "# integrate PolynomialFeatures in a pipeline before an SVM model\n",
        "# Use different kernels such as linear, polynomial, and RBF"
      ],
      "metadata": {
        "id": "DU2BzuM66rt2"
      }
    },
    {
      "cell_type": "code",
      "source": [
        "from sklearn.svm import SVR\n",
        "\n",
        "kernels = ['linear', 'poly', 'rbf']\n",
        "models = {}\n",
        "\n",
        "for kernel in kernels:\n",
        "    model = SVR(kernel=kernel)\n",
        "    model.fit(X_train, y_train)\n",
        "\n",
        "    y_train_pred = model.predict(X_train)\n",
        "    y_test_pred = model.predict(X_test)\n",
        "\n",
        "    train_mse = mean_squared_error(y_train, y_train_pred)\n",
        "    test_mse = mean_squared_error(y_test, y_test_pred)\n",
        "\n",
        "    models[kernel] = model\n",
        "\n",
        "    print(f\"\\nKernel: {kernel}\")\n",
        "    print(\"Training accuracy:\", 100-train_mse)\n",
        "    print(\"Testing accuracy:\", 100-test_mse)\n"
      ],
      "metadata": {
        "id": "n8znVJF-6YI4"
      },
      "execution_count": null,
      "outputs": []
    }
  ]
}