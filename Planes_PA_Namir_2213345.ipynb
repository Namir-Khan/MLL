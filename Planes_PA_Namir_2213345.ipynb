{
 "cells": [
  {
   "cell_type": "code",
   "execution_count": 77,
   "metadata": {
    "id": "ZdcOkOtCT2TJ"
   },
   "outputs": [],
   "source": [
    "# Import Lib\n",
    "import numpy as np\n",
    "import pandas as pd\n",
    "import matplotlib.pyplot as plt\n",
    "import seaborn as sns"
   ]
  },
  {
   "cell_type": "code",
   "execution_count": 78,
   "metadata": {
    "id": "Df_TLTdibTrv"
   },
   "outputs": [],
   "source": [
    "# Load the dataset\n",
    "df = pd.read_csv('planes.csv')"
   ]
  },
  {
   "cell_type": "code",
   "execution_count": 79,
   "metadata": {
    "colab": {
     "base_uri": "https://localhost:8080/"
    },
    "id": "cw63xcdqbWGY",
    "outputId": "d3617f60-87de-4fff-f1a2-4c07c6569a42"
   },
   "outputs": [
    {
     "name": "stdout",
     "output_type": "stream",
     "text": [
      "Columns :\n",
      " Index(['Airline', 'Date_of_Journey', 'Source', 'Destination', 'Route',\n",
      "       'Dep_Time', 'Arrival_Time', 'Duration', 'Total_Stops',\n",
      "       'Additional_Info', 'Price'],\n",
      "      dtype='object')\n",
      "Shape :\n",
      " (10660, 11)\n"
     ]
    }
   ],
   "source": [
    "# Understand its structure and contents of the dataset\n",
    "print(\"Columns :\\n\",df.columns)\n",
    "print(\"Shape :\\n\",df.shape)"
   ]
  },
  {
   "cell_type": "code",
   "execution_count": 80,
   "metadata": {
    "colab": {
     "base_uri": "https://localhost:8080/"
    },
    "id": "Q4wADn7QbaTb",
    "outputId": "31457dac-c9ed-42aa-eacd-33090f94317c"
   },
   "outputs": [
    {
     "name": "stdout",
     "output_type": "stream",
     "text": [
      "['Jet Airways' 'IndiGo' 'SpiceJet' 'Multiple carriers' 'Air India' 'GoAir'\n",
      " 'Vistara' nan 'Air Asia']\n"
     ]
    }
   ],
   "source": [
    "# How many unique airlines are represented in the dataset?\n",
    "airlines = df['Airline'].unique()\n",
    "print(airlines)"
   ]
  },
  {
   "cell_type": "code",
   "execution_count": 81,
   "metadata": {
    "colab": {
     "base_uri": "https://localhost:8080/"
    },
    "id": "MrBwgnB3bsN5",
    "outputId": "38378ce6-b01d-4c0f-8ad6-1933505992fd"
   },
   "outputs": [
    {
     "name": "stdout",
     "output_type": "stream",
     "text": [
      "Range of flight price is from ' 1759.0 ' to ' 54826.0 '\n"
     ]
    }
   ],
   "source": [
    "# What is the range of flight prices present in the dataset?\n",
    "min = df['Price'].min()\n",
    "max = df['Price'].max()\n",
    "print(\"Range of flight price is from '\",min,\"' to '\",max,\"'\" )"
   ]
  },
  {
   "cell_type": "code",
   "execution_count": 82,
   "metadata": {
    "colab": {
     "base_uri": "https://localhost:8080/"
    },
    "id": "C3YG9MKdc7pm",
    "outputId": "44ef44be-d4e9-47e2-b2c9-ecbf83f0dbbc"
   },
   "outputs": [
    {
     "name": "stdout",
     "output_type": "stream",
     "text": [
      "Duplicated Records : 0\n"
     ]
    }
   ],
   "source": [
    "# Are there any duplicate records? If so, how many?\n",
    "print(\"Duplicated Records :\",df.index.duplicated().sum())"
   ]
  },
  {
   "cell_type": "code",
   "execution_count": 83,
   "metadata": {
    "colab": {
     "base_uri": "https://localhost:8080/"
    },
    "id": "64F-De5vbvmr",
    "outputId": "1dcdd16f-b720-40c4-b16d-1a42cf28c8fb"
   },
   "outputs": [
    {
     "name": "stdout",
     "output_type": "stream",
     "text": [
      "Frequency Distribution of Source Flights :\n",
      " Delhi       4451\n",
      "Kolkata     2814\n",
      "Banglore    2149\n",
      "Mumbai       685\n",
      "Chennai      374\n",
      "Name: Source, dtype: int64\n",
      "Frequency Distribution of Destination Flights :\n",
      " Cochin       4391\n",
      "Banglore     2773\n",
      "Delhi        1219\n",
      "New Delhi     888\n",
      "Hyderabad     673\n",
      "Kolkata       369\n",
      "Name: Destination, dtype: int64\n"
     ]
    }
   ],
   "source": [
    "# What is the frequency distribution of flights among different sources and destinations?\n",
    "city_count_s = df['Source'].value_counts()\n",
    "city_count_d = df['Destination'].value_counts()\n",
    "print(\"Frequency Distribution of Source Flights :\\n\",city_count_s)\n",
    "print(\"Frequency Distribution of Destination Flights :\\n\",city_count_d)"
   ]
  },
  {
   "cell_type": "code",
   "execution_count": 84,
   "metadata": {
    "colab": {
     "base_uri": "https://localhost:8080/"
    },
    "id": "DeEEvyLxd18Q",
    "outputId": "8c2ff321-4580-4592-bb3c-cf85f8b46f12"
   },
   "outputs": [
    {
     "name": "stdout",
     "output_type": "stream",
     "text": [
      "Jet Airways          3685\n",
      "IndiGo               1981\n",
      "Air India            1686\n",
      "Multiple carriers    1148\n",
      "SpiceJet              787\n",
      "Vistara               455\n",
      "Air Asia              309\n",
      "GoAir                 182\n",
      "Name: Airline, dtype: int64\n"
     ]
    }
   ],
   "source": [
    "airlines = df['Airline'].value_counts()\n",
    "print(airlines)"
   ]
  },
  {
   "cell_type": "code",
   "execution_count": 85,
   "metadata": {
    "colab": {
     "base_uri": "https://localhost:8080/"
    },
    "id": "yYDryhCTdB9A",
    "outputId": "37caefcb-9e2d-4f43-f433-50e625f09e59"
   },
   "outputs": [
    {
     "name": "stdout",
     "output_type": "stream",
     "text": [
      "Missing Values in column Price  616\n",
      "Missing Values in column Duration  214\n",
      "Missing Values in column Total_Stops  212\n"
     ]
    }
   ],
   "source": [
    "# Are there any missing values in crucial columns like Price, Duration, or Total_Stops?\n",
    "print(\"Missing Values in column Price \",df['Price'].isnull().sum())\n",
    "print(\"Missing Values in column Duration \",df['Duration'].isnull().sum())\n",
    "print(\"Missing Values in column Total_Stops \",df['Total_Stops'].isnull().sum())"
   ]
  },
  {
   "cell_type": "code",
   "execution_count": 86,
   "metadata": {
    "colab": {
     "base_uri": "https://localhost:8080/"
    },
    "id": "duXPfnpXdDyZ",
    "outputId": "c2040f37-36f9-4640-9923-37c86bebb942"
   },
   "outputs": [
    {
     "data": {
      "text/plain": [
       "Airline             object\n",
       "Date_of_Journey     object\n",
       "Source              object\n",
       "Destination         object\n",
       "Route               object\n",
       "Dep_Time            object\n",
       "Arrival_Time        object\n",
       "Duration            object\n",
       "Total_Stops         object\n",
       "Additional_Info     object\n",
       "Price              float64\n",
       "dtype: object"
      ]
     },
     "execution_count": 86,
     "metadata": {},
     "output_type": "execute_result"
    }
   ],
   "source": [
    "#Validate the format of Date_of_Journey, Dep_Time, and Arrival_Time. Are they consistent throughout the dataset?\n",
    "df.dtypes"
   ]
  },
  {
   "cell_type": "code",
   "execution_count": 88,
   "metadata": {
    "colab": {
     "base_uri": "https://localhost:8080/",
     "height": 653
    },
    "id": "yncibpmSdFr_",
    "outputId": "901e757d-37b7-4e25-dd8f-a267e4b03a82"
   },
   "outputs": [
    {
     "name": "stderr",
     "output_type": "stream",
     "text": [
      "<ipython-input-88-436b1ee0dead>:2: UserWarning: Parsing dates in DD/MM/YYYY format when dayfirst=False (the default) was specified. This may lead to inconsistently parsed dates! Specify a format to ensure consistent parsing.\n",
      "  df['Journey_day'] = pd.to_datetime(df['Date_of_Journey']).dt.day\n",
      "<ipython-input-88-436b1ee0dead>:3: UserWarning: Parsing dates in DD/MM/YYYY format when dayfirst=False (the default) was specified. This may lead to inconsistently parsed dates! Specify a format to ensure consistent parsing.\n",
      "  df['Journey_month'] = pd.to_datetime(df['Date_of_Journey']).dt.month\n"
     ]
    },
    {
     "data": {
      "image/png": "[encoded data removed]",
      "text/plain": [
       "<Figure size 1000x600 with 1 Axes>"
      ]
     },
     "metadata": {},
     "output_type": "display_data"
    }
   ],
   "source": [
    "#How does the price of flights vary with the date of journey?\n",
    "df['Journey_day'] = pd.to_datetime(df['Date_of_Journey']).dt.day\n",
    "df['Journey_month'] = pd.to_datetime(df['Date_of_Journey']).dt.month\n",
    "df.drop('Date_of_Journey', axis=1, inplace=True)\n",
    "df_price_by_month = df.groupby('Journey_month')['Price'].mean().reset_index()\n",
    "df_price_by_day = df.groupby('Journey_day')['Price'].mean().reset_index()\n",
    "plt.figure(figsize=(10, 6))\n",
    "sns.lineplot(data=df_price_by_month, x='Journey_month', y='Price')\n",
    "plt.xlabel('Month')\n",
    "plt.ylabel('Average Price')\n",
    "plt.title('Average Flight Price by Month')\n",
    "plt.show()"
   ]
  },
  {
   "cell_type": "code",
   "execution_count": 97,
   "metadata": {
    "colab": {
     "base_uri": "https://localhost:8080/",
     "height": 447
    },
    "id": "duqmoax8dP0q",
    "outputId": "5111e25e-33ce-423a-abb1-3150bd062884"
   },
   "outputs": [
    {
     "data": {
      "text/plain": [
       "<Axes: ylabel='Airline'>"
      ]
     },
     "execution_count": 97,
     "metadata": {},
     "output_type": "execute_result"
    },
    {
     "data": {
      "image/png": "[encoded data removed]",
      "text/plain": [
       "<Figure size 640x480 with 1 Axes>"
      ]
     },
     "metadata": {},
     "output_type": "display_data"
    }
   ],
   "source": [
    "#Visualize the number of flights per airline using a bar chart.\n",
    "airlines_count = df['Airline'].value_counts()\n",
    "sns.barplot(airlines_count)"
   ]
  },
  {
   "cell_type": "code",
   "execution_count": 89,
   "metadata": {
    "id": "aOw0U3dLdIrF"
   },
   "outputs": [],
   "source": [
    "#Is there a noticeable trend in flight prices over months?"
   ]
  },
  {
   "cell_type": "code",
   "execution_count": 87,
   "metadata": {
    "colab": {
     "base_uri": "https://localhost:8080/"
    },
    "id": "fJ-pBxHHbzmc",
    "outputId": "109adf2f-d709-4cbb-88b6-1709413d0c38"
   },
   "outputs": [
    {
     "name": "stdout",
     "output_type": "stream",
     "text": [
      "Jet Airways has Max filght duration : 10657\n"
     ]
    }
   ],
   "source": [
    "# How does the flight duration vary across different airlines?\n",
    "df1 = df[df['Airline'] == \"Jet Airways\"]\n",
    "df2 = df[df['Airline'] == \"IndiGo\"]\n",
    "df3 = df[df['Airline'] == \"Air India\"]\n",
    "df4 = df[df['Airline'] == \"Multiple carriers\"]\n",
    "df5 = df[df['Airline'] == \"SpiceJet\"]\n",
    "df6 = df[df['Airline'] == \"Vistara\"]\n",
    "df7 = df[df['Airline'] == \"Air Asia\"]\n",
    "df8 = df[df['Airline'] == \"GoAir\"]\n",
    "\n",
    "print(\"Jet Airways has Max filght duration :\",df1['Duration'].index.max())"
   ]
  },
  {
   "cell_type": "code",
   "execution_count": 90,
   "metadata": {
    "id": "j2k6CZtxdMOT"
   },
   "outputs": [],
   "source": [
    "#Which airline has the highest average flight price? What about the lowest?"
   ]
  },
  {
   "cell_type": "code",
   "execution_count": 91,
   "metadata": {
    "id": "gyxjh2msdOGO"
   },
   "outputs": [],
   "source": [
    "#Explore the relationship between flight duration and price. Is there a correlation?"
   ]
  },
  {
   "cell_type": "code",
   "execution_count": 93,
   "metadata": {
    "id": "uhN8wpmbdScD"
   },
   "outputs": [],
   "source": [
    "#Use a boxplot to compare the flight prices across different airlines. What insights can you gain about price variability?"
   ]
  },
  {
   "cell_type": "code",
   "execution_count": 94,
   "metadata": {
    "id": "uuBuENfEbYFr"
   },
   "outputs": [],
   "source": []
  }
 ],
 "metadata": {
  "colab": {
   "provenance": []
  },
  "kernelspec": {
   "display_name": "Python 3 (ipykernel)",
   "language": "python",
   "name": "python3"
  },
  "language_info": {
   "codemirror_mode": {
    "name": "ipython",
    "version": 3
   },
   "file_extension": ".py",
   "mimetype": "text/x-python",
   "name": "python",
   "nbconvert_exporter": "python",
   "pygments_lexer": "ipython3",
   "version": "3.11.3"
  }
 },
 "nbformat": 4,
 "nbformat_minor": 1
}
